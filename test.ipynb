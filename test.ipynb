{
 "cells": [
  {
   "cell_type": "markdown",
   "metadata": {},
   "source": [
    "# Test Notebook\n",
    "\n",
    "In this notebook we test all the classes created in the `Search Strategies` file. \n",
    "This also serves as a documentation and reference to the same."
   ]
  },
  {
   "cell_type": "code",
   "execution_count": 17,
   "metadata": {},
   "outputs": [
    {
     "data": {
      "text/plain": [
       "'0.39'"
      ]
     },
     "execution_count": 17,
     "metadata": {},
     "output_type": "execute_result"
    }
   ],
   "source": [
    "import SearchStrategies as ss\n",
    "ss.__version__"
   ]
  },
  {
   "cell_type": "code",
   "execution_count": 18,
   "metadata": {},
   "outputs": [
    {
     "data": {
      "text/plain": [
       "\u001b[3m<TreeNode(4, None), Parent: None>\u001b[0m"
      ]
     },
     "execution_count": 18,
     "metadata": {},
     "output_type": "execute_result"
    }
   ],
   "source": [
    "root_single = ss.TreeNode(4)\n",
    "root_single"
   ]
  },
  {
   "cell_type": "code",
   "execution_count": 19,
   "metadata": {},
   "outputs": [],
   "source": [
    "tree_tuple = ((1, 3, None), 2, ((None, 3, 4), 5, (6, 7, 8)))"
   ]
  },
  {
   "cell_type": "code",
   "execution_count": 20,
   "metadata": {},
   "outputs": [
    {
     "name": "stdout",
     "output_type": "stream",
     "text": [
      "3\n"
     ]
    }
   ],
   "source": [
    "print(len(tree_tuple))\n",
    "root = ss.create_tree(tree_tuple)"
   ]
  },
  {
   "cell_type": "code",
   "execution_count": 21,
   "metadata": {},
   "outputs": [],
   "source": [
    "\n",
    "#! Display keys needs to be checked\n",
    "# ss.display_keys(root)"
   ]
  },
  {
   "cell_type": "code",
   "execution_count": 22,
   "metadata": {},
   "outputs": [],
   "source": [
    "# creating an agent for travresal\n",
    "agent = ss.BFS(struct=root,root=root, type='tree')"
   ]
  },
  {
   "cell_type": "code",
   "execution_count": 23,
   "metadata": {},
   "outputs": [
    {
     "data": {
      "text/plain": [
       "([\u001b[3m<TreeNode(2, 1), Parent: None>\u001b[0m,\n",
       "  \u001b[3m<TreeNode(3, 1), Parent: \u001b[3m<TreeNode(2, 1), Parent: None>\u001b[0m>\u001b[0m,\n",
       "  \u001b[3m<TreeNode(5, 1), Parent: \u001b[3m<TreeNode(2, 1), Parent: None>\u001b[0m>\u001b[0m,\n",
       "  \u001b[3m<TreeNode(1, 1), Parent: \u001b[3m<TreeNode(3, 1), Parent: \u001b[3m<TreeNode(2, 1), Parent: None>\u001b[0m>\u001b[0m>\u001b[0m,\n",
       "  \u001b[3m<TreeNode(None, 1), Parent: \u001b[3m<TreeNode(3, 1), Parent: \u001b[3m<TreeNode(2, 1), Parent: None>\u001b[0m>\u001b[0m>\u001b[0m,\n",
       "  \u001b[3m<TreeNode(3, 1), Parent: \u001b[3m<TreeNode(5, 1), Parent: \u001b[3m<TreeNode(2, 1), Parent: None>\u001b[0m>\u001b[0m>\u001b[0m,\n",
       "  \u001b[3m<TreeNode(7, 1), Parent: \u001b[3m<TreeNode(5, 1), Parent: \u001b[3m<TreeNode(2, 1), Parent: None>\u001b[0m>\u001b[0m>\u001b[0m,\n",
       "  \u001b[3m<TreeNode(None, 1), Parent: \u001b[3m<TreeNode(3, 1), Parent: \u001b[3m<TreeNode(5, 1), Parent: \u001b[3m<TreeNode(2, 1), Parent: None>\u001b[0m>\u001b[0m>\u001b[0m>\u001b[0m,\n",
       "  \u001b[3m<TreeNode(4, 1), Parent: \u001b[3m<TreeNode(3, 1), Parent: \u001b[3m<TreeNode(5, 1), Parent: \u001b[3m<TreeNode(2, 1), Parent: None>\u001b[0m>\u001b[0m>\u001b[0m>\u001b[0m,\n",
       "  \u001b[3m<TreeNode(6, 1), Parent: \u001b[3m<TreeNode(7, 1), Parent: \u001b[3m<TreeNode(5, 1), Parent: \u001b[3m<TreeNode(2, 1), Parent: None>\u001b[0m>\u001b[0m>\u001b[0m>\u001b[0m,\n",
       "  \u001b[3m<TreeNode(8, 1), Parent: \u001b[3m<TreeNode(7, 1), Parent: \u001b[3m<TreeNode(5, 1), Parent: \u001b[3m<TreeNode(2, 1), Parent: None>\u001b[0m>\u001b[0m>\u001b[0m>\u001b[0m],\n",
       " 11)"
      ]
     },
     "execution_count": 23,
     "metadata": {},
     "output_type": "execute_result"
    }
   ],
   "source": [
    "# order of traversal\n",
    "oot = agent.traverse()\n",
    "oot, len(oot)"
   ]
  },
  {
   "cell_type": "code",
   "execution_count": 24,
   "metadata": {},
   "outputs": [
    {
     "name": "stdout",
     "output_type": "stream",
     "text": [
      "\u001b[3m<TreeNode(2, 1), Parent: None>\u001b[0m \u001b[3m<TreeNode(8, 1), Parent: \u001b[3m<TreeNode(7, 1), Parent: \u001b[3m<TreeNode(5, 1), Parent: \u001b[3m<TreeNode(2, 1), Parent: None>\u001b[0m>\u001b[0m>\u001b[0m>\u001b[0m\n"
     ]
    }
   ],
   "source": [
    "goal = root.right.right.right\n",
    "print(root, goal)"
   ]
  },
  {
   "cell_type": "code",
   "execution_count": 25,
   "metadata": {},
   "outputs": [
    {
     "data": {
      "text/plain": [
       "(4, 11)"
      ]
     },
     "execution_count": 25,
     "metadata": {},
     "output_type": "execute_result"
    }
   ],
   "source": [
    "ss.height(root), ss.size(root)"
   ]
  },
  {
   "cell_type": "code",
   "execution_count": 26,
   "metadata": {},
   "outputs": [
    {
     "name": "stdout",
     "output_type": "stream",
     "text": [
      "[2, 5, 7, 8] 4\n"
     ]
    }
   ],
   "source": [
    "path, cost = agent.find_shortest_path(goal.value)\n",
    "print(path, cost)"
   ]
  },
  {
   "cell_type": "code",
   "execution_count": 27,
   "metadata": {},
   "outputs": [
    {
     "name": "stdout",
     "output_type": "stream",
     "text": [
      "[2, 5, 3, 4] 4\n"
     ]
    }
   ],
   "source": [
    "path, cost = agent.find_shortest_path(4)\n",
    "print(path, cost)"
   ]
  },
  {
   "cell_type": "code",
   "execution_count": 28,
   "metadata": {},
   "outputs": [],
   "source": [
    "# Undirected Graph\n",
    "num_nodes1 = 5\n",
    "edges1 = [(0, 1), (0, 4), (1, 2), (1, 3), (1, 4), (2, 3), (3, 4)]  \n",
    "\n",
    "# Undirected Weighted Graph\n",
    "num_nodes2 = 9\n",
    "edges2 = [(0, 1, 3), (0, 3, 2), (0, 8, 4), (1, 7, 4), (2, 7, 2), (2, 3, 6), \n",
    "          (2, 5, 1), (3, 4, 1), (4, 8, 8), (5, 6, 8)]\n",
    "\n",
    "# Directed Graph\n",
    "num_nodes3 = 5\n",
    "edges3 = [(0, 1), (1, 2), (2, 3), (2, 4), (4, 2), (3, 0)]\n",
    "\n",
    "# Directed Weighted Graph\n",
    "num_nodes4 = 6\n",
    "edges4 = [(0, 1, 4), (0, 2, 2), (1, 2, 5), (1, 3, 10), (2, 4, 3), (4, 3, 4), (3, 5, 11)]"
   ]
  },
  {
   "cell_type": "code",
   "execution_count": 29,
   "metadata": {},
   "outputs": [],
   "source": [
    "graph_u = ss.Graph(num_nodes1, edges1)\n",
    "graph_uw = ss.Graph(num_nodes2, edges2, weighted=True)\n",
    "graph_d = ss.Graph(num_nodes3, edges3, directed=True)\n",
    "graph_dw = ss.Graph(num_nodes4, edges4, weighted=True, directed=True)"
   ]
  },
  {
   "cell_type": "code",
   "execution_count": 30,
   "metadata": {},
   "outputs": [
    {
     "data": {
      "text/plain": [
       "True"
      ]
     },
     "execution_count": 30,
     "metadata": {},
     "output_type": "execute_result"
    }
   ],
   "source": [
    "type(graph_uw) == ss.Graph"
   ]
  },
  {
   "cell_type": "code",
   "execution_count": 31,
   "metadata": {},
   "outputs": [
    {
     "data": {
      "text/plain": [
       "0: [(1, 3), (3, 2), (8, 4)]\n",
       "1: [(0, 3), (7, 4)]\n",
       "2: [(7, 2), (3, 6), (5, 1)]\n",
       "3: [(0, 2), (2, 6), (4, 1)]\n",
       "4: [(3, 1), (8, 8)]\n",
       "5: [(2, 1), (6, 8)]\n",
       "6: [(5, 8)]\n",
       "7: [(1, 4), (2, 2)]\n",
       "8: [(0, 4), (4, 8)]"
      ]
     },
     "execution_count": 31,
     "metadata": {},
     "output_type": "execute_result"
    }
   ],
   "source": [
    "agent = ss.BFS(0, graph_uw)\n",
    "graph_uw"
   ]
  },
  {
   "cell_type": "code",
   "execution_count": 32,
   "metadata": {},
   "outputs": [
    {
     "ename": "AssertionError",
     "evalue": "",
     "output_type": "error",
     "traceback": [
      "\u001b[0;31m---------------------------------------------------------------------------\u001b[0m",
      "\u001b[0;31mAssertionError\u001b[0m                            Traceback (most recent call last)",
      "\u001b[0;32m/tmp/ipykernel_10277/1676503184.py\u001b[0m in \u001b[0;36m<module>\u001b[0;34m\u001b[0m\n\u001b[0;32m----> 1\u001b[0;31m \u001b[0mresult\u001b[0m \u001b[0;34m=\u001b[0m \u001b[0magent\u001b[0m\u001b[0;34m.\u001b[0m\u001b[0mtraverse\u001b[0m\u001b[0;34m(\u001b[0m\u001b[0mverbose\u001b[0m\u001b[0;34m=\u001b[0m\u001b[0;32mTrue\u001b[0m\u001b[0;34m)\u001b[0m\u001b[0;34m\u001b[0m\u001b[0;34m\u001b[0m\u001b[0m\n\u001b[0m",
      "\u001b[0;32m~/dev/python/projects/SearchStrategies/SearchStrategies.py\u001b[0m in \u001b[0;36mtraverse\u001b[0;34m(self, verbose)\u001b[0m\n\u001b[1;32m    166\u001b[0m     \u001b[0;32mdef\u001b[0m \u001b[0mtraverse\u001b[0m\u001b[0;34m(\u001b[0m\u001b[0mself\u001b[0m\u001b[0;34m,\u001b[0m \u001b[0mverbose\u001b[0m\u001b[0;34m=\u001b[0m\u001b[0;32mFalse\u001b[0m\u001b[0;34m)\u001b[0m\u001b[0;34m:\u001b[0m\u001b[0;34m\u001b[0m\u001b[0;34m\u001b[0m\u001b[0m\n\u001b[1;32m    167\u001b[0m         \u001b[0;32mif\u001b[0m \u001b[0mself\u001b[0m\u001b[0;34m.\u001b[0m\u001b[0mtype\u001b[0m \u001b[0;34m==\u001b[0m \u001b[0;34m'graph'\u001b[0m\u001b[0;34m:\u001b[0m\u001b[0;34m\u001b[0m\u001b[0;34m\u001b[0m\u001b[0m\n\u001b[0;32m--> 168\u001b[0;31m             \u001b[0;32massert\u001b[0m \u001b[0misinstance\u001b[0m\u001b[0;34m(\u001b[0m\u001b[0mself\u001b[0m\u001b[0;34m.\u001b[0m\u001b[0mstruct\u001b[0m\u001b[0;34m,\u001b[0m \u001b[0mGraph\u001b[0m\u001b[0;34m)\u001b[0m\u001b[0;34m\u001b[0m\u001b[0;34m\u001b[0m\u001b[0m\n\u001b[0m\u001b[1;32m    169\u001b[0m \u001b[0;34m\u001b[0m\u001b[0m\n\u001b[1;32m    170\u001b[0m             \u001b[0mqueue\u001b[0m \u001b[0;34m=\u001b[0m \u001b[0;34m[\u001b[0m\u001b[0;34m]\u001b[0m  \u001b[0;31m# maintain a queue of visited nodes\u001b[0m\u001b[0;34m\u001b[0m\u001b[0;34m\u001b[0m\u001b[0m\n",
      "\u001b[0;31mAssertionError\u001b[0m: "
     ]
    }
   ],
   "source": [
    "result = agent.traverse(verbose=True)"
   ]
  }
 ],
 "metadata": {
  "interpreter": {
   "hash": "aa6254ec456d809e1d837dcd2e3684ed7aac96259180505707138149184015b7"
  },
  "kernelspec": {
   "display_name": "Python 3.8.8 64-bit ('base': conda)",
   "language": "python",
   "name": "python3"
  },
  "language_info": {
   "codemirror_mode": {
    "name": "ipython",
    "version": 3
   },
   "file_extension": ".py",
   "mimetype": "text/x-python",
   "name": "python",
   "nbconvert_exporter": "python",
   "pygments_lexer": "ipython3",
   "version": "3.9.5"
  },
  "orig_nbformat": 4
 },
 "nbformat": 4,
 "nbformat_minor": 2
}
