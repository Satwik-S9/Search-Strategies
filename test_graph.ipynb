{
 "cells": [
  {
   "cell_type": "markdown",
   "metadata": {},
   "source": [
    "# Test Notebook: Graphs\n",
    "\n",
    "In this notebook we test all the classes created in the `Search Strategies` file. \n",
    "This also serves as a documentation and reference to the same."
   ]
  },
  {
   "cell_type": "code",
   "execution_count": 1,
   "metadata": {},
   "outputs": [
    {
     "data": {
      "text/plain": [
       "'0.50'"
      ]
     },
     "execution_count": 1,
     "metadata": {},
     "output_type": "execute_result"
    }
   ],
   "source": [
    "import SearchStrategies as ss\n",
    "ss.__version__"
   ]
  },
  {
   "cell_type": "markdown",
   "metadata": {},
   "source": [
    "### 1.2 BFS on a Graph"
   ]
  },
  {
   "cell_type": "code",
   "execution_count": 2,
   "metadata": {},
   "outputs": [],
   "source": [
    "# Undirected Graph\n",
    "num_nodes1 = 5\n",
    "edges1 = [(0, 1), (0, 4), (1, 2), (1, 3), (1, 4), (2, 3), (3, 4)]  \n",
    "\n",
    "# Undirected Weighted Graph\n",
    "num_nodes2 = 9\n",
    "edges2 = [(0, 1, 3), (0, 3, 2), (0, 8, 4), (1, 7, 4), (2, 7, 2), (2, 3, 6), \n",
    "          (2, 5, 1), (3, 4, 1), (4, 8, 8), (5, 6, 8)]\n",
    "\n",
    "# Directed Graph\n",
    "num_nodes3 = 5\n",
    "edges3 = [(0, 1), (1, 2), (2, 3), (2, 4), (4, 2), (3, 0)]\n",
    "\n",
    "# Directed Weighted Graph\n",
    "num_nodes4 = 6\n",
    "edges4 = [(0, 1, 4), (0, 2, 2), (1, 2, 5), (1, 3, 10), (2, 4, 3), (4, 3, 4), (3, 5, 11)]"
   ]
  },
  {
   "cell_type": "code",
   "execution_count": 3,
   "metadata": {},
   "outputs": [],
   "source": [
    "graph_u = ss.Graph(num_nodes1, edges1)\n",
    "graph_uw = ss.Graph(num_nodes2, edges2, weighted=True)\n",
    "graph_d = ss.Graph(num_nodes3, edges3, directed=True)\n",
    "graph_dw = ss.Graph(num_nodes4, edges4, weighted=True, directed=True)"
   ]
  },
  {
   "cell_type": "code",
   "execution_count": 4,
   "metadata": {},
   "outputs": [
    {
     "data": {
      "text/plain": [
       "True"
      ]
     },
     "execution_count": 4,
     "metadata": {},
     "output_type": "execute_result"
    }
   ],
   "source": [
    "type(graph_uw) == ss.Graph"
   ]
  },
  {
   "cell_type": "markdown",
   "metadata": {},
   "source": [
    "#### 1.2.1 Undirected Weighted Graph"
   ]
  },
  {
   "cell_type": "code",
   "execution_count": 5,
   "metadata": {},
   "outputs": [
    {
     "data": {
      "text/plain": [
       "0: [(1, 3), (3, 2), (8, 4)]\n",
       "1: [(0, 3), (7, 4)]\n",
       "2: [(7, 2), (3, 6), (5, 1)]\n",
       "3: [(0, 2), (2, 6), (4, 1)]\n",
       "4: [(3, 1), (8, 8)]\n",
       "5: [(2, 1), (6, 8)]\n",
       "6: [(5, 8)]\n",
       "7: [(1, 4), (2, 2)]\n",
       "8: [(0, 4), (4, 8)]"
      ]
     },
     "execution_count": 5,
     "metadata": {},
     "output_type": "execute_result"
    }
   ],
   "source": [
    "agent = ss.BFS(root=0, struct=graph_uw, type='graph')\n",
    "graph_uw"
   ]
  },
  {
   "cell_type": "code",
   "execution_count": 6,
   "metadata": {},
   "outputs": [
    {
     "data": {
      "text/plain": [
       "SearchStrategies.Graph"
      ]
     },
     "execution_count": 6,
     "metadata": {},
     "output_type": "execute_result"
    }
   ],
   "source": [
    "type(graph_uw)"
   ]
  },
  {
   "cell_type": "code",
   "execution_count": 7,
   "metadata": {},
   "outputs": [
    {
     "data": {
      "text/plain": [
       "0: [(1, 3), (3, 2), (8, 4)]\n",
       "1: [(0, 3), (7, 4)]\n",
       "2: [(7, 2), (3, 6), (5, 1)]\n",
       "3: [(0, 2), (2, 6), (4, 1)]\n",
       "4: [(3, 1), (8, 8)]\n",
       "5: [(2, 1), (6, 8)]\n",
       "6: [(5, 8)]\n",
       "7: [(1, 4), (2, 2)]\n",
       "8: [(0, 4), (4, 8)]"
      ]
     },
     "execution_count": 7,
     "metadata": {},
     "output_type": "execute_result"
    }
   ],
   "source": [
    "agent.struct"
   ]
  },
  {
   "cell_type": "code",
   "execution_count": 8,
   "metadata": {},
   "outputs": [
    {
     "name": "stdout",
     "output_type": "stream",
     "text": [
      "Order of Traverseal: [0, 1, 3, 8, 7, 2, 4, 5, 6]\n",
      "Distance: [0, 1, 2, 1, 2, 3, 4, 2, 1]\n",
      "Parents: [None, 0, 3, 0, 3, 2, 5, 1, 0]\n"
     ]
    }
   ],
   "source": [
    "result = agent.traverse(verbose=True)"
   ]
  },
  {
   "cell_type": "code",
   "execution_count": 9,
   "metadata": {},
   "outputs": [],
   "source": [
    "path, cost = agent.find_shortest_path(4)"
   ]
  },
  {
   "cell_type": "code",
   "execution_count": 17,
   "metadata": {},
   "outputs": [
    {
     "data": {
      "text/plain": [
       "([0, 3, 4], 3)"
      ]
     },
     "execution_count": 17,
     "metadata": {},
     "output_type": "execute_result"
    }
   ],
   "source": [
    "path, cost"
   ]
  },
  {
   "cell_type": "markdown",
   "metadata": {},
   "source": [
    "## 2. DFS \n",
    "\n",
    "### 2.1 DFS on a Graph\n",
    "\n",
    "#### 2.1.1 Undirected Weighted Graph"
   ]
  },
  {
   "cell_type": "code",
   "execution_count": 10,
   "metadata": {},
   "outputs": [],
   "source": [
    "agent = ss.DFS(root=0, struct=graph_uw, type='graph')"
   ]
  },
  {
   "cell_type": "code",
   "execution_count": 11,
   "metadata": {},
   "outputs": [
    {
     "data": {
      "text/plain": [
       "0: [(1, 3), (3, 2), (8, 4)]\n",
       "1: [(0, 3), (7, 4)]\n",
       "2: [(7, 2), (3, 6), (5, 1)]\n",
       "3: [(0, 2), (2, 6), (4, 1)]\n",
       "4: [(3, 1), (8, 8)]\n",
       "5: [(2, 1), (6, 8)]\n",
       "6: [(5, 8)]\n",
       "7: [(1, 4), (2, 2)]\n",
       "8: [(0, 4), (4, 8)]"
      ]
     },
     "execution_count": 11,
     "metadata": {},
     "output_type": "execute_result"
    }
   ],
   "source": [
    "graph_uw"
   ]
  },
  {
   "cell_type": "code",
   "execution_count": 12,
   "metadata": {},
   "outputs": [
    {
     "name": "stdout",
     "output_type": "stream",
     "text": [
      "Order of Traversal is: [0, 1, 7, 2, 3, 4, 8, 5, 6]\n"
     ]
    }
   ],
   "source": [
    "container = agent.traverse(verbose=True)"
   ]
  },
  {
   "cell_type": "code",
   "execution_count": 13,
   "metadata": {},
   "outputs": [
    {
     "data": {
      "text/plain": [
       "[0, 1, 7, 2, 3, 4, 8, 5, 6]"
      ]
     },
     "execution_count": 13,
     "metadata": {},
     "output_type": "execute_result"
    }
   ],
   "source": [
    "container"
   ]
  },
  {
   "cell_type": "code",
   "execution_count": 14,
   "metadata": {},
   "outputs": [
    {
     "data": {
      "text/plain": [
       "([0, 3, 4], 3)"
      ]
     },
     "execution_count": 14,
     "metadata": {},
     "output_type": "execute_result"
    }
   ],
   "source": [
    "path, cost = agent.find_shortest_path(0, 4)\n",
    "path, cost"
   ]
  },
  {
   "cell_type": "code",
   "execution_count": 15,
   "metadata": {},
   "outputs": [
    {
     "data": {
      "text/plain": [
       "0: [1]\n",
       "1: [2]\n",
       "2: [3, 4]\n",
       "3: [0]\n",
       "4: [2]"
      ]
     },
     "execution_count": 15,
     "metadata": {},
     "output_type": "execute_result"
    }
   ],
   "source": [
    "agent = ss.DFS(root=0, struct=graph_d, type='graph')\n",
    "graph_d"
   ]
  },
  {
   "cell_type": "code",
   "execution_count": 16,
   "metadata": {},
   "outputs": [
    {
     "name": "stdout",
     "output_type": "stream",
     "text": [
      "Order of Traversal is: [0, 1, 2, 3, 4]\n"
     ]
    }
   ],
   "source": [
    "container = agent.traverse(verbose=True)"
   ]
  }
 ],
 "metadata": {
  "interpreter": {
   "hash": "aa6254ec456d809e1d837dcd2e3684ed7aac96259180505707138149184015b7"
  },
  "kernelspec": {
   "display_name": "Python 3.8.8 64-bit ('base': conda)",
   "language": "python",
   "name": "python3"
  },
  "language_info": {
   "codemirror_mode": {
    "name": "ipython",
    "version": 3
   },
   "file_extension": ".py",
   "mimetype": "text/x-python",
   "name": "python",
   "nbconvert_exporter": "python",
   "pygments_lexer": "ipython3",
   "version": "3.9.5"
  },
  "orig_nbformat": 4
 },
 "nbformat": 4,
 "nbformat_minor": 2
}
