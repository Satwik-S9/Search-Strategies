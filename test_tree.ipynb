{
 "cells": [
  {
   "cell_type": "markdown",
   "metadata": {},
   "source": [
    "# Test Notebook: Tree\n",
    "In this notebook I test all the algorithms of search strategies for The tree data-structure."
   ]
  },
  {
   "cell_type": "code",
   "execution_count": 1,
   "metadata": {},
   "outputs": [],
   "source": [
    "import SearchStrategies as ss"
   ]
  },
  {
   "cell_type": "code",
   "execution_count": 2,
   "metadata": {},
   "outputs": [
    {
     "data": {
      "text/plain": [
       "\u001b[3m<TreeNode(Key:None, Value: 4, Weight: None), Parent: None>\u001b[0m"
      ]
     },
     "execution_count": 2,
     "metadata": {},
     "output_type": "execute_result"
    }
   ],
   "source": [
    "root_single = ss.TreeNode(4)\n",
    "root_single"
   ]
  },
  {
   "cell_type": "code",
   "execution_count": 3,
   "metadata": {},
   "outputs": [
    {
     "name": "stdout",
     "output_type": "stream",
     "text": [
      "{0: [(1, 1), (2, 1)], 1: [(3, 1), (0, 1)], 3: [(1, 1)], 2: [(4, 1), (5, 1), (0, 1)], 4: [(6, 1), (2, 1)], 6: [(4, 1)], 5: [(7, 1), (8, 1), (2, 1)], 7: [(5, 1)], 8: [(5, 1)]} 9\n"
     ]
    }
   ],
   "source": [
    "tree_tuple = ((1, 3, None), 2, ((None, 3, 4), 5, (6, 7, 8)))\n",
    "root = ss.create_tree(tree_tuple)\n",
    "adj = ss.create_adjacency_list(root, replace_keys=False)\n",
    "print(adj, len(adj))"
   ]
  },
  {
   "cell_type": "code",
   "execution_count": 4,
   "metadata": {},
   "outputs": [
    {
     "name": "stdout",
     "output_type": "stream",
     "text": [
      "\u001b[3m<TreeNode(Key:0, Value: 2, Weight: 1), Parent: None>\u001b[0m\n"
     ]
    }
   ],
   "source": [
    "print(root)"
   ]
  },
  {
   "cell_type": "code",
   "execution_count": 5,
   "metadata": {},
   "outputs": [
    {
     "data": {
      "text/plain": [
       "\u001b[3m<TreeNode(Key:2, Value: 5, Weight: 1), Parent: \u001b[3m<TreeNode(Key:0, Value: 2, Weight: 1), Parent: None>\u001b[0m>\u001b[0m"
      ]
     },
     "execution_count": 5,
     "metadata": {},
     "output_type": "execute_result"
    }
   ],
   "source": [
    "value = ss.find(root, 2)\n",
    "value"
   ]
  },
  {
   "cell_type": "markdown",
   "metadata": {},
   "source": [
    "## DFS on a Tree"
   ]
  },
  {
   "cell_type": "code",
   "execution_count": 6,
   "metadata": {},
   "outputs": [
    {
     "name": "stdout",
     "output_type": "stream",
     "text": [
      "The Order of Traversal is: [2, 3, 1, 5, 3, 4, 7, 6, 8]\n"
     ]
    },
    {
     "data": {
      "text/plain": [
       "\u001b[3m<TreeNode(Key:0, Value: 2, Weight: 1), Parent: None>\u001b[0m"
      ]
     },
     "execution_count": 6,
     "metadata": {},
     "output_type": "execute_result"
    }
   ],
   "source": [
    "agent = ss.DFS(struct=root, type='tree')\n",
    "container = agent.traverse(verbose=True)\n",
    "agent.struct"
   ]
  },
  {
   "cell_type": "code",
   "execution_count": 7,
   "metadata": {},
   "outputs": [
    {
     "name": "stdout",
     "output_type": "stream",
     "text": [
      "\u001b[3m<TreeNode(Key:8, Value: 8, Weight: 1), Parent: \u001b[3m<TreeNode(Key:5, Value: 7, Weight: 1), Parent: \u001b[3m<TreeNode(Key:2, Value: 5, Weight: 1), Parent: \u001b[3m<TreeNode(Key:0, Value: 2, Weight: 1), Parent: None>\u001b[0m>\u001b[0m>\u001b[0m>\u001b[0m\n"
     ]
    }
   ],
   "source": [
    "target = root.right.right.right\n",
    "print(target)"
   ]
  },
  {
   "cell_type": "code",
   "execution_count": 8,
   "metadata": {},
   "outputs": [
    {
     "name": "stdout",
     "output_type": "stream",
     "text": [
      "[2, 5, 7, 8] 3\n"
     ]
    }
   ],
   "source": [
    "path, cost = agent.find_shortest_path(root, target)\n",
    "print(path, cost)"
   ]
  },
  {
   "cell_type": "markdown",
   "metadata": {},
   "source": [
    "## BFS on a Tree"
   ]
  },
  {
   "cell_type": "code",
   "execution_count": 9,
   "metadata": {},
   "outputs": [
    {
     "name": "stdout",
     "output_type": "stream",
     "text": [
      "Order of Traversal: [2, 3, 5, 1, 3, 7, 4, 6, 8]\n"
     ]
    }
   ],
   "source": [
    "agent = ss.BFS(struct=root, type='tree')\n",
    "container = agent.traverse(verbose=True)"
   ]
  },
  {
   "cell_type": "code",
   "execution_count": 10,
   "metadata": {},
   "outputs": [
    {
     "name": "stdout",
     "output_type": "stream",
     "text": [
      "\u001b[3m<TreeNode(Key:0, Value: 2, Weight: 1), Parent: None>\u001b[0m \u001b[3m<TreeNode(Key:8, Value: 8, Weight: 1), Parent: \u001b[3m<TreeNode(Key:5, Value: 7, Weight: 1), Parent: \u001b[3m<TreeNode(Key:2, Value: 5, Weight: 1), Parent: \u001b[3m<TreeNode(Key:0, Value: 2, Weight: 1), Parent: None>\u001b[0m>\u001b[0m>\u001b[0m>\u001b[0m\n"
     ]
    }
   ],
   "source": [
    "goal = root.right.right.right\n",
    "print(root, goal)"
   ]
  },
  {
   "cell_type": "code",
   "execution_count": 11,
   "metadata": {},
   "outputs": [
    {
     "name": "stdout",
     "output_type": "stream",
     "text": [
      "[2, 5, 7, 8] 4\n"
     ]
    }
   ],
   "source": [
    "path, cost = agent.find_shortest_path(goal.value)\n",
    "print(path, cost)"
   ]
  },
  {
   "cell_type": "code",
   "execution_count": 12,
   "metadata": {},
   "outputs": [
    {
     "name": "stdout",
     "output_type": "stream",
     "text": [
      "[2, 5, 3, 4] 4\n"
     ]
    }
   ],
   "source": [
    "path, cost = agent.find_shortest_path(4)\n",
    "print(path, cost)"
   ]
  }
 ],
 "metadata": {
  "interpreter": {
   "hash": "2e099ab778632fa2f575ad6d334952b869723795be2352ce09efff2efe36e081"
  },
  "kernelspec": {
   "display_name": "Python 3.9.5 64-bit ('base': conda)",
   "language": "python",
   "name": "python3"
  },
  "language_info": {
   "codemirror_mode": {
    "name": "ipython",
    "version": 3
   },
   "file_extension": ".py",
   "mimetype": "text/x-python",
   "name": "python",
   "nbconvert_exporter": "python",
   "pygments_lexer": "ipython3",
   "version": "3.9.5"
  },
  "orig_nbformat": 4
 },
 "nbformat": 4,
 "nbformat_minor": 2
}
